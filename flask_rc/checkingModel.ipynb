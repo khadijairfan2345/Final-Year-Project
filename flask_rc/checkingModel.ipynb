{
 "cells": [
  {
   "cell_type": "code",
   "execution_count": 1,
   "id": "43f93bf6",
   "metadata": {},
   "outputs": [
    {
     "name": "stdout",
     "output_type": "stream",
     "text": [
      "{'prediction': 'Modern'}\n"
     ]
    }
   ],
   "source": [
    "import joblib\n",
    "import cv2\n",
    "import numpy as np\n",
    "\n",
    "# Load the pre-trained model\n",
    "model = joblib.load('roomclassifier.joblib')  # Update with the correct path\n",
    "\n",
    "# Function to preprocess an image before making predictions\n",
    "def preprocess_image(image_path):\n",
    "    img = cv2.imread(image_path)\n",
    "    if img is None:\n",
    "        return None\n",
    "    img = cv2.resize(img, (150, 150))\n",
    "    return img.flatten()\n",
    "\n",
    "# Function to predict room type from an image\n",
    "def predict_room_type(image_path):\n",
    "    # Preprocess the image\n",
    "    processed_image = preprocess_image(image_path)\n",
    "    if processed_image is None:\n",
    "        return {'error': 'Unable to process the image'}\n",
    "\n",
    "    # Make predictions\n",
    "    prediction = model.predict([processed_image])[0]\n",
    "\n",
    "    # Return the result\n",
    "    result = {'prediction': 'Modern' if prediction == 1 else 'Traditional'}\n",
    "    return result\n",
    "\n",
    "# Example usage:\n",
    "image_path = 'testingImage1.jpeg'  # Update with the correct path\n",
    "result = predict_room_type(image_path)\n",
    "print(result)\n"
   ]
  },
  {
   "cell_type": "code",
   "execution_count": null,
   "id": "f6dc82a4",
   "metadata": {},
   "outputs": [],
   "source": []
  }
 ],
 "metadata": {
  "kernelspec": {
   "display_name": "Python 3 (ipykernel)",
   "language": "python",
   "name": "python3"
  },
  "language_info": {
   "codemirror_mode": {
    "name": "ipython",
    "version": 3
   },
   "file_extension": ".py",
   "mimetype": "text/x-python",
   "name": "python",
   "nbconvert_exporter": "python",
   "pygments_lexer": "ipython3",
   "version": "3.9.7"
  }
 },
 "nbformat": 4,
 "nbformat_minor": 5
}
